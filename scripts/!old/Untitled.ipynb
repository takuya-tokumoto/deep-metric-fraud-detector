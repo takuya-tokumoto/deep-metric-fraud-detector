{
 "cells": [
  {
   "cell_type": "markdown",
   "id": "8b0e4801-e008-4fd2-a4a8-384e5648342e",
   "metadata": {},
   "source": [
    "# Import"
   ]
  },
  {
   "cell_type": "code",
   "execution_count": 1,
   "id": "c0493779-5db7-4c1f-b7ad-d3b583eedf84",
   "metadata": {},
   "outputs": [
    {
     "name": "stdout",
     "output_type": "stream",
     "text": [
      "Requirement already satisfied: torch in /opt/conda/lib/python3.8/site-packages (2.1.2)\n",
      "Requirement already satisfied: torchvision in /opt/conda/lib/python3.8/site-packages (0.16.2)\n",
      "Requirement already satisfied: filelock in /opt/conda/lib/python3.8/site-packages (from torch) (3.4.2)\n",
      "Requirement already satisfied: typing-extensions in /opt/conda/lib/python3.8/site-packages (from torch) (4.1.1)\n",
      "Requirement already satisfied: sympy in /opt/conda/lib/python3.8/site-packages (from torch) (1.12)\n",
      "Requirement already satisfied: networkx in /opt/conda/lib/python3.8/site-packages (from torch) (3.1)\n",
      "Requirement already satisfied: jinja2 in /opt/conda/lib/python3.8/site-packages (from torch) (3.1.2)\n",
      "Requirement already satisfied: fsspec in /opt/conda/lib/python3.8/site-packages (from torch) (2023.12.0)\n",
      "Requirement already satisfied: nvidia-cuda-nvrtc-cu12==12.1.105 in /opt/conda/lib/python3.8/site-packages (from torch) (12.1.105)\n",
      "Requirement already satisfied: nvidia-cuda-runtime-cu12==12.1.105 in /opt/conda/lib/python3.8/site-packages (from torch) (12.1.105)\n",
      "Requirement already satisfied: nvidia-cuda-cupti-cu12==12.1.105 in /opt/conda/lib/python3.8/site-packages (from torch) (12.1.105)\n",
      "Requirement already satisfied: nvidia-cudnn-cu12==8.9.2.26 in /opt/conda/lib/python3.8/site-packages (from torch) (8.9.2.26)\n",
      "Requirement already satisfied: nvidia-cublas-cu12==12.1.3.1 in /opt/conda/lib/python3.8/site-packages (from torch) (12.1.3.1)\n",
      "Requirement already satisfied: nvidia-cufft-cu12==11.0.2.54 in /opt/conda/lib/python3.8/site-packages (from torch) (11.0.2.54)\n",
      "Requirement already satisfied: nvidia-curand-cu12==10.3.2.106 in /opt/conda/lib/python3.8/site-packages (from torch) (10.3.2.106)\n",
      "Requirement already satisfied: nvidia-cusolver-cu12==11.4.5.107 in /opt/conda/lib/python3.8/site-packages (from torch) (11.4.5.107)\n",
      "Requirement already satisfied: nvidia-cusparse-cu12==12.1.0.106 in /opt/conda/lib/python3.8/site-packages (from torch) (12.1.0.106)\n",
      "Requirement already satisfied: nvidia-nccl-cu12==2.18.1 in /opt/conda/lib/python3.8/site-packages (from torch) (2.18.1)\n",
      "Requirement already satisfied: nvidia-nvtx-cu12==12.1.105 in /opt/conda/lib/python3.8/site-packages (from torch) (12.1.105)\n",
      "Requirement already satisfied: triton==2.1.0 in /opt/conda/lib/python3.8/site-packages (from torch) (2.1.0)\n",
      "Requirement already satisfied: nvidia-nvjitlink-cu12 in /opt/conda/lib/python3.8/site-packages (from nvidia-cusolver-cu12==11.4.5.107->torch) (12.3.101)\n",
      "Requirement already satisfied: numpy in /opt/conda/lib/python3.8/site-packages (from torchvision) (1.23.0)\n",
      "Requirement already satisfied: requests in /opt/conda/lib/python3.8/site-packages (from torchvision) (2.31.0)\n",
      "Requirement already satisfied: pillow!=8.3.*,>=5.3.0 in /opt/conda/lib/python3.8/site-packages (from torchvision) (9.0.1)\n",
      "Requirement already satisfied: MarkupSafe>=2.0 in /opt/conda/lib/python3.8/site-packages (from jinja2->torch) (2.1.3)\n",
      "Requirement already satisfied: charset-normalizer<4,>=2 in /opt/conda/lib/python3.8/site-packages (from requests->torchvision) (2.0.4)\n",
      "Requirement already satisfied: idna<4,>=2.5 in /opt/conda/lib/python3.8/site-packages (from requests->torchvision) (3.3)\n",
      "Requirement already satisfied: urllib3<3,>=1.21.1 in /opt/conda/lib/python3.8/site-packages (from requests->torchvision) (1.26.7)\n",
      "Requirement already satisfied: certifi>=2017.4.17 in /opt/conda/lib/python3.8/site-packages (from requests->torchvision) (2023.11.17)\n",
      "Requirement already satisfied: mpmath>=0.19 in /opt/conda/lib/python3.8/site-packages (from sympy->torch) (1.3.0)\n",
      "\u001b[33mWARNING: Running pip as the 'root' user can result in broken permissions and conflicting behaviour with the system package manager. It is recommended to use a virtual environment instead: https://pip.pypa.io/warnings/venv\u001b[0m\u001b[33m\n",
      "\u001b[0m"
     ]
    }
   ],
   "source": [
    "!pip install --upgrade torch torchvision"
   ]
  },
  {
   "cell_type": "code",
   "execution_count": 2,
   "id": "69eac72a-4cd5-42c9-a1b4-a68659716bd4",
   "metadata": {},
   "outputs": [
    {
     "name": "stdout",
     "output_type": "stream",
     "text": [
      "PyTorch version: 2.1.2+cu121\n",
      "Torchvision version: 0.16.2+cu121\n"
     ]
    }
   ],
   "source": [
    "import torch\n",
    "import torchvision\n",
    "\n",
    "print(\"PyTorch version:\", torch.__version__)\n",
    "print(\"Torchvision version:\", torchvision.__version__)"
   ]
  },
  {
   "cell_type": "code",
   "execution_count": 3,
   "id": "6bad5ce8-0ae7-4658-83a2-dd3e87426ce7",
   "metadata": {},
   "outputs": [],
   "source": [
    "import pandas as pd\n",
    "from sklearn.model_selection import train_test_split\n",
    "from torchvision import transforms, datasets\n",
    "from torch.utils.data import Dataset, DataLoader\n",
    "import torch.nn as nn\n",
    "import torch.nn.functional as F\n",
    "import torch.optim as optim\n",
    "import torch\n",
    "from PIL import Image\n",
    "import matplotlib.pyplot as plt\n",
    "import os\n",
    "import random\n",
    "import torchvision\n",
    "import numpy as np\n",
    "import gc  \n",
    "from albumentations import (\n",
    "    Compose, Normalize, Resize,\n",
    "    RandomResizedCrop, HorizontalFlip,\n",
    "    RandomBrightnessContrast, ShiftScaleRotate\n",
    ")\n",
    "from albumentations.pytorch import ToTensorV2\n",
    "import cv2\n",
    "from datetime import datetime\n",
    "import pytz\n",
    "from tqdm import tqdm\n",
    "import timm\n",
    "import sys\n",
    "\n",
    "\n",
    "sys.path.append('../tools')\n",
    "from utils import *"
   ]
  },
  {
   "cell_type": "markdown",
   "id": "2b8ba10d-9943-48c9-ad53-a9d1e22c0daa",
   "metadata": {},
   "source": [
    "# Config"
   ]
  },
  {
   "cell_type": "code",
   "execution_count": 4,
   "id": "611ef3a4-147d-4dec-8572-50a20d6c2e0f",
   "metadata": {},
   "outputs": [],
   "source": [
    "class Config:\n",
    "    competition = \"sake\"\n",
    "    name = \"meigara_classification_baseline_archface\"\n",
    "\n",
    "    debug = False\n",
    "\n",
    "    training = True\n",
    "    evaluation = True\n",
    "    embedding = True\n",
    "\n",
    "    seed = 8823\n",
    "    n_fold = 5\n",
    "    trn_fold = [0,1,2,3,4]\n",
    "\n",
    "    target_columns = [\"meigara_label\"]\n",
    "    size = 512\n",
    "\n",
    "    model_name = \"tf_efficientnet_b0_ns\"\n",
    "    max_epochs = 5\n",
    "    train_batch_size = 32\n",
    "    valid_batch_size = 20 # 128\n",
    "    num_workers = 4\n",
    "    gradient_accumulation_steps = 1\n",
    "    clip_grad_norm = 1000\n",
    "\n",
    "    optimizer = dict(\n",
    "        optimizer_name=\"AdamW\",\n",
    "        lr=1e-4,\n",
    "        weight_decay=1e-2,\n",
    "        eps=1e-6,\n",
    "        beta=(0.9, 0.999),\n",
    "        encoder_lr=1e-4,\n",
    "        decoder_lr=1e-4,\n",
    "    )\n",
    "\n",
    "    scheduler = dict(\n",
    "        scheduler_name=\"cosine\",\n",
    "        num_warmup_steps_rate=0,\n",
    "        num_cycles=0.5,\n",
    "    )\n",
    "    batch_scheduler = True"
   ]
  },
  {
   "cell_type": "markdown",
   "id": "1ffd6dd5-395a-476f-b4c9-c1afc79481f7",
   "metadata": {},
   "source": [
    "# Check"
   ]
  },
  {
   "cell_type": "markdown",
   "id": "e88ec262-5c04-4788-8ee8-8160d84b514c",
   "metadata": {},
   "source": [
    "`./data`配下のディレクトリ構造"
   ]
  },
  {
   "cell_type": "code",
   "execution_count": 5,
   "id": "581cfa70-323c-4880-9f75-db35aea4269d",
   "metadata": {},
   "outputs": [
    {
     "name": "stdout",
     "output_type": "stream",
     "text": [
      "<data>\n",
      "　├<input>\n",
      "　│　├<01_multiclass>\n",
      "　│　│　├<train>\n",
      "　│　│　│　├<Hazelnut>\n",
      "　│　│　│　├<Rotary_beacon_light>\n",
      "　│　│　│　└<Coffee_beans>\n",
      "　│　│　└<test>\n",
      "　│　│　　　├<Rotary_beacon_light_good>\n",
      "　│　│　　　├<Coffee_beans_abn>\n",
      "　│　│　　　├<Hazelnut_abn>\n",
      "　│　│　　　├<Rotary_beacon_light_abn>\n",
      "　│　│　　　├<Hazelnut_good>\n",
      "　│　│　　　└<Coffee_good>\n",
      "　│　├<Hazelnut>\n",
      "　│　│　├<train>\n",
      "　│　│　│　├<crack>\n",
      "　│　│　│　└<good>\n",
      "　│　│　└<test>\n",
      "　│　│　　　├<crack>\n",
      "　│　│　　　└<good>\n",
      "　│　├<Rotary_beacon_light>\n",
      "　│　│　├<train>\n",
      "　│　│　│　└<good>\n",
      "　│　│　└<test>\n",
      "　│　│　　　├<nocolor>\n",
      "　│　│　　　├<yellow>\n",
      "　│　│　　　├<good>\n",
      "　│　│　　　└<red>\n",
      "　│　└<Coffee_beans>\n",
      "　│　　　├<train>\n",
      "　│　　　│　├<good>\n",
      "　│　　　│　└<chocolate>\n",
      "　│　　　└<test>\n",
      "　│　　　　　├<good>\n",
      "　│　　　　　├<candy>\n",
      "　│　　　　　└<chocolate>\n",
      "　└<output>\n"
     ]
    }
   ],
   "source": [
    "tree(path = '../data/', show_files=False)"
   ]
  },
  {
   "cell_type": "code",
   "execution_count": 6,
   "id": "21c67534-a457-4663-ab77-87858054563d",
   "metadata": {},
   "outputs": [
    {
     "name": "stdout",
     "output_type": "stream",
     "text": [
      "<test>\n",
      "　├<crack>\n",
      "　│　├tn004.jpg\n",
      "　│　├tn010.jpg\n",
      "　│　├tn012.jpg\n",
      "　│　├tn008.jpg\n",
      "　│　├tn001.jpg\n",
      "　│　├tn015.jpg\n",
      "　│　├tn013.jpg\n",
      "　│　├tn005.jpg\n",
      "　│　├tn006.jpg\n",
      "　│　├tn007.jpg\n",
      "　│　├tn009.jpg\n",
      "　│　├tn003.jpg\n",
      "　│　├tn011.jpg\n",
      "　│　├tn002.jpg\n",
      "　│　└tn014.jpg\n",
      "　└<good>\n",
      "　　　├to005.jpg\n",
      "　　　├to023.jpg\n",
      "　　　├to007.jpg\n",
      "　　　├to009.jpg\n",
      "　　　├to022.jpg\n",
      "　　　├to017.jpg\n",
      "　　　├to001.jpg\n",
      "　　　├to002.jpg\n",
      "　　　├to021.jpg\n",
      "　　　├to006.jpg\n",
      "　　　├to003.jpg\n",
      "　　　├to013.jpg\n",
      "　　　├to016.jpg\n",
      "　　　├to010.jpg\n",
      "　　　├to011.jpg\n",
      "　　　├to004.jpg\n",
      "　　　├to020.jpg\n",
      "　　　├to014.jpg\n",
      "　　　├to018.jpg\n",
      "　　　├to015.jpg\n",
      "　　　├to019.jpg\n",
      "　　　├to008.jpg\n",
      "　　　├to025.jpg\n",
      "　　　├to024.jpg\n",
      "　　　└to012.jpg\n"
     ]
    }
   ],
   "source": [
    "tree(path = '../data/input/Hazelnut/test/', show_files=True)"
   ]
  },
  {
   "cell_type": "markdown",
   "id": "a57617ed-9c71-4eb3-af8a-221f73cbc281",
   "metadata": {},
   "source": [
    "# 共通"
   ]
  },
  {
   "cell_type": "markdown",
   "id": "9ddb1944-dd4e-4038-bb54-b211e92e2e18",
   "metadata": {},
   "source": [
    "# 実験1.マルチクラス分類"
   ]
  },
  {
   "cell_type": "markdown",
   "id": "eac3bd76-2f80-4bc6-9f53-cc5699c07823",
   "metadata": {},
   "source": [
    "## 画像データの格納"
   ]
  },
  {
   "cell_type": "code",
   "execution_count": 7,
   "id": "b162f585-d4c7-43b9-b02f-1c3a9ad26ccf",
   "metadata": {},
   "outputs": [
    {
     "name": "stdout",
     "output_type": "stream",
     "text": [
      "Files already exist in ../data/input/01_multiclass/train/Hazelnut/. Aborting operation.\n",
      "Files already exist in ../data/input/01_multiclass/train/Rotary_beacon_light/. Aborting operation.\n",
      "Files already exist in ../data/input/01_multiclass/train/Coffee_beans/. Aborting operation.\n",
      "Files already exist in ../data/input/01_multiclass/test/Coffee_beans_abn/. Aborting operation.\n",
      "Files already exist in ../data/input/01_multiclass/test/Coffee_beans_abn/. Aborting operation.\n",
      "Files already exist in ../data/input/01_multiclass/test/Coffee_good/. Aborting operation.\n",
      "Files already exist in ../data/input/01_multiclass/test/Hazelnut_abn/. Aborting operation.\n",
      "Files already exist in ../data/input/01_multiclass/test/Hazelnut_good/. Aborting operation.\n",
      "Files already exist in ../data/input/01_multiclass/test/Rotary_beacon_light_good/. Aborting operation.\n",
      "Files already exist in ../data/input/01_multiclass/test/Rotary_beacon_light_abn/. Aborting operation.\n",
      "Files already exist in ../data/input/01_multiclass/test/Rotary_beacon_light_abn/. Aborting operation.\n",
      "Files already exist in ../data/input/01_multiclass/test/Rotary_beacon_light_abn/. Aborting operation.\n"
     ]
    }
   ],
   "source": [
    "# 必要なディレクトリ構成に変更\n",
    "\n",
    "copy_images('../data/input/Hazelnut/train/good/','../data/input/01_multiclass/train/Hazelnut/')\n",
    "copy_images('../data/input/Rotary_beacon_light/train/good/','../data/input/01_multiclass/train/Rotary_beacon_light/')\n",
    "copy_images('../data/input/Coffee_beans/train/good/','../data/input/01_multiclass/train/Coffee_beans/')\n",
    "\n",
    "copy_images('../data/input/Coffee_beans/test/candy/','../data/input/01_multiclass/test/Coffee_beans_abn/')\n",
    "copy_images('../data/input/Coffee_beans/test/chocolate/','../data/input/01_multiclass/test/Coffee_beans_abn/')\n",
    "copy_images('../data/input/Coffee_beans/test/good/','../data/input/01_multiclass/test/Coffee_good/')\n",
    "\n",
    "copy_images('../data/input/Hazelnut/test/crack/','../data/input/01_multiclass/test/Hazelnut_abn/')\n",
    "copy_images('../data/input/Hazelnut/test/good/','../data/input/01_multiclass/test/Hazelnut_good/')\n",
    "\n",
    "copy_images('../data/input/Rotary_beacon_light/test/good/','../data/input/01_multiclass/test/Rotary_beacon_light_good/')\n",
    "copy_images('../data/input/Rotary_beacon_light/test/nocolor/','../data/input/01_multiclass/test/Rotary_beacon_light_abn/')\n",
    "copy_images('../data/input/Rotary_beacon_light/test/red/','../data/input/01_multiclass/test/Rotary_beacon_light_abn/')\n",
    "copy_images('../data/input/Rotary_beacon_light/test/yellow/','../data/input/01_multiclass/test/Rotary_beacon_light_abn/')"
   ]
  },
  {
   "cell_type": "markdown",
   "id": "a3342eab-942d-4b47-8d42-7bc50ed7abb0",
   "metadata": {},
   "source": [
    "## 学習"
   ]
  },
  {
   "cell_type": "markdown",
   "id": "d56ba26e-c4a0-4303-a925-4f5445710c0c",
   "metadata": {},
   "source": [
    "### 関数"
   ]
  },
  {
   "cell_type": "code",
   "execution_count": 8,
   "id": "ebf956c9-5221-443c-910c-e098b297b0e8",
   "metadata": {},
   "outputs": [],
   "source": [
    "def get_transforms():\n",
    "    transforms_dict = {\n",
    "        'train': transforms.Compose([\n",
    "            transforms.RandomResizedCrop(512),\n",
    "            transforms.RandomHorizontalFlip(),\n",
    "            transforms.ColorJitter(brightness=0.2, contrast=0.2),\n",
    "            transforms.RandomAffine(degrees=0, translate=(0.1, 0.1), scale=(0.9, 1.1)),\n",
    "            transforms.ToTensor(),\n",
    "            transforms.Normalize([0.485, 0.456, 0.406], [0.229, 0.224, 0.225]),\n",
    "        ]),\n",
    "        'valid': transforms.Compose([\n",
    "            transforms.Resize((512, 512)),\n",
    "            transforms.ToTensor(),\n",
    "            transforms.Normalize([0.485, 0.456, 0.406], [0.229, 0.224, 0.225]),\n",
    "        ]),\n",
    "    }\n",
    "    return transforms_dict"
   ]
  },
  {
   "cell_type": "code",
   "execution_count": 9,
   "id": "c28ce8db-4719-4da8-987f-6e678cb6a5d6",
   "metadata": {},
   "outputs": [],
   "source": [
    "class ArcFace(nn.Module):\n",
    "    def __init__(self, in_features, out_features, s=30.0, m=0.50):\n",
    "        super().__init__()\n",
    "        self.in_features = in_features\n",
    "        self.out_features = out_features\n",
    "        self.s = s\n",
    "        self.m = m\n",
    "\n",
    "        self.weight = nn.Parameter(torch.FloatTensor(out_features, in_features))\n",
    "        nn.init.xavier_uniform_(self.weight)\n",
    "\n",
    "    def forward(self, input, label):\n",
    "        cos_m = math.cos(self.m)\n",
    "        sin_m = math.sin(self.m)\n",
    "        th = math.cos(math.pi - self.m)\n",
    "        mm = math.sin(math.pi - self.m) * self.m\n",
    "\n",
    "        cosine = F.linear(F.normalize(input), F.normalize(self.weight))\n",
    "        sine = torch.sqrt(1.0 - torch.pow(cosine, 2))\n",
    "        phi = cosine * cos_m - sine * sin_m\n",
    "        phi = torch.where(cosine > th, phi, cosine - mm)\n",
    "\n",
    "        # output\n",
    "        one_hot = torch.zeros(cosine.size(), device='cuda')\n",
    "        one_hot.scatter_(1, label.view(-1, 1).long(), 1)\n",
    "        output = (one_hot * phi) + ((1.0 - one_hot) * cosine)\n",
    "        output *= self.s\n",
    "        return output\n",
    "\n",
    "class CustomModel(nn.Module):\n",
    "    def __init__(self, config, out_dim, pretrained=False):\n",
    "        super().__init__()\n",
    "        self.config = config\n",
    "        self.model = timm.create_model(self.config.model_name, pretrained=pretrained)\n",
    "        self.n_features = self.model.classifier.in_features\n",
    "        self.model.classifier = nn.Identity()  # custom head にするため\n",
    "        self.arcface = ArcFace(in_features=self.n_features, out_features=out_dim)\n",
    "\n",
    "    def feature(self, images):\n",
    "        feature = self.model(images)\n",
    "        return feature\n",
    "\n",
    "    def forward(self, images, labels=None):\n",
    "        x = self.feature(images)\n",
    "        x = self.arcface(x, labels)\n",
    "        return x"
   ]
  },
  {
   "cell_type": "code",
   "execution_count": 10,
   "id": "9178cfec-5055-4636-972e-db5778689ae9",
   "metadata": {},
   "outputs": [],
   "source": [
    "def get_optimizer(optimizer_config, model):\n",
    "    if optimizer_config[\"optimizer_name\"] == \"AdamW\":\n",
    "        optimizer = AdamW(\n",
    "            model.parameters(),\n",
    "            lr=optimizer_config[\"lr\"],\n",
    "            betas=optimizer_config[\"beta\"],\n",
    "            eps=optimizer_config[\"eps\"],\n",
    "        )\n",
    "        return optimizer\n",
    "    else:\n",
    "        raise NotImplementedError\n",
    "\n",
    "def get_scheduler(scheduler_config, optimizer, num_train_steps):\n",
    "    if scheduler_config[\"scheduler_name\"] == \"linear\":\n",
    "        scheduler = get_linear_schedule_with_warmup(\n",
    "            optimizer,\n",
    "            num_warmup_steps=int(scheduler_config[\"num_warmup_steps_rate\"] * num_train_steps),\n",
    "            num_training_steps=num_train_steps,\n",
    "        )\n",
    "        return scheduler\n",
    "\n",
    "    elif scheduler_config[\"scheduler_name\"] == \"cosine\":\n",
    "        scheduler = get_cosine_schedule_with_warmup(\n",
    "            optimizer,\n",
    "            num_warmup_steps=int(scheduler_config[\"num_warmup_steps_rate\"] * num_train_steps),\n",
    "            num_training_steps=num_train_steps,\n",
    "            num_cycles=scheduler_config[\"num_cycles\"],\n",
    "        )\n",
    "        return scheduler\n",
    "\n",
    "    elif scheduler_config[\"scheduler_name\"] == \"cosine_restarts\":\n",
    "        \"\"\"\n",
    "        example:\n",
    "            first_cycle_steps_ratio = 0.25,\n",
    "            cycle_mult = 1.0,\n",
    "            max_lr = 2e-5,\n",
    "            min_lr = 1e-7,\n",
    "            warmup_steps=100,\n",
    "            gamma=0.8)\n",
    "        \"\"\"\n",
    "        scheduler = CosineAnnealingWarmupRestarts(\n",
    "            optimizer,\n",
    "            first_cycle_steps=int(num_train_steps * scheduler_config[\"first_cycle_steps_ratio\"]),\n",
    "            cycle_mult=scheduler_config[\"cycle_mult\"],\n",
    "            max_lr=scheduler_config[\"max_lr\"],\n",
    "            min_lr=scheduler_config[\"min_lr\"],\n",
    "            warmup_steps=scheduler_config[\"warmup_steps\"],\n",
    "            gamma=scheduler_config[\"gamma\"],\n",
    "        )\n",
    "        return scheduler\n",
    "\n",
    "    else:\n",
    "        raise NotImplementedError\n",
    "\n",
    "def train_model(dataloaders, model, criterion, optimizer, num_epochs, file_name):\n",
    "    for epoch in range(num_epochs):\n",
    "        print(f'Epoch {epoch+1}/{num_epochs}')\n",
    "        print('-' * 10)\n",
    "\n",
    "        # フェーズを動的に決定\n",
    "        phases = dataloaders.keys()\n",
    "\n",
    "        for phase in phases:\n",
    "            if phase == 'train':\n",
    "                model.train()\n",
    "            else:\n",
    "                model.eval()\n",
    "\n",
    "            running_loss = 0.0\n",
    "            correct_predictions = 0\n",
    "            \n",
    "            # tqdmを追加して、ループの進捗を表示\n",
    "            for inputs, labels in tqdm(dataloaders[phase], desc=f\"{phase} epoch {epoch+1}\"):\n",
    "                inputs = inputs.to(device)\n",
    "                labels = labels.to(device)\n",
    "\n",
    "                optimizer.zero_grad()\n",
    "\n",
    "                with torch.set_grad_enabled(phase == 'train'):\n",
    "                    outputs = model(inputs)\n",
    "                    _, preds = torch.max(outputs, 1)\n",
    "                    loss = criterion(outputs, labels)\n",
    "\n",
    "                    if phase == 'train':\n",
    "                        loss.backward()\n",
    "                        optimizer.step()\n",
    "\n",
    "                running_loss += loss.item() * inputs.size(0)\n",
    "                correct_predictions += torch.sum(preds == labels.data)\n",
    "\n",
    "            epoch_loss = running_loss / len(dataloaders[phase].dataset)\n",
    "            epoch_acc = correct_predictions.double() / len(dataloaders[phase].dataset)\n",
    "            print(f'{phase} Loss: {epoch_loss:.4f} Acc: {epoch_acc:.4f}')\n",
    "\n",
    "    torch.save(model.state_dict(), f'../models/{file_name}.pth')\n",
    "    print('Finished Training')\n"
   ]
  },
  {
   "cell_type": "code",
   "execution_count": 11,
   "id": "cf6359af-06ad-434c-9117-2fc31d639064",
   "metadata": {},
   "outputs": [],
   "source": [
    "def train_model(dataloaders, model, criterion, optimizer, num_epochs, file_name, device):\n",
    "    for epoch in range(num_epochs):\n",
    "        print(f'Epoch {epoch+1}/{num_epochs}')\n",
    "        print('-' * 10)\n",
    "\n",
    "        phases = dataloaders.keys()\n",
    "\n",
    "        for phase in phases:\n",
    "            if phase == 'train':\n",
    "                model.train()\n",
    "            else:\n",
    "                model.eval()\n",
    "\n",
    "            running_loss = 0.0\n",
    "            correct_predictions = 0\n",
    "\n",
    "            for inputs, labels in tqdm(dataloaders[phase], desc=f\"{phase} epoch {epoch+1}\"):\n",
    "                inputs, labels = inputs.to(device), labels.to(device)\n",
    "\n",
    "                optimizer.zero_grad()\n",
    "\n",
    "                with torch.set_grad_enabled(phase == 'train'):\n",
    "                    outputs = model(inputs,labels)\n",
    "                    _, preds = torch.max(outputs, 1)\n",
    "                    loss = criterion(outputs, labels)\n",
    "\n",
    "                    if phase == 'train':\n",
    "                        loss.backward()\n",
    "                        optimizer.step()\n",
    "\n",
    "                running_loss += loss.item() * inputs.size(0)\n",
    "                correct_predictions += torch.sum(preds == labels.data)\n",
    "\n",
    "            epoch_loss = running_loss / len(dataloaders[phase].dataset)\n",
    "            epoch_acc = correct_predictions.double() / len(dataloaders[phase].dataset)\n",
    "\n",
    "            print(f'{phase} Loss: {epoch_loss:.4f} Acc: {epoch_acc:.4f}')\n",
    "\n",
    "    torch.save(model.state_dict(), f'../models/{file_name}.pth')\n",
    "    print('Finished Training')\n"
   ]
  },
  {
   "cell_type": "markdown",
   "id": "35332d4f-92be-4381-ab5d-9d09320e7b62",
   "metadata": {},
   "source": [
    "### 実行"
   ]
  },
  {
   "cell_type": "code",
   "execution_count": 12,
   "id": "53ec2a11-1e87-42a4-9975-5c5656b0e551",
   "metadata": {},
   "outputs": [],
   "source": [
    "# Get transforms\n",
    "transforms_dict = get_transforms()\n",
    "\n",
    "# Load datasets\n",
    "train_image_dir = '../data/input/01_multiclass/train/'\n",
    "train_dataset = torchvision.datasets.ImageFolder(root=train_image_dir, transform=transforms_dict['train'])\n",
    "\n",
    "# Create dataloaders\n",
    "batch_size = 8\n",
    "# train_dataloader = DataLoader(train_dataset, batch_size = batch_size, shuffle = True)\n",
    "train_dataloader = {\n",
    "    'train': DataLoader(train_dataset, batch_size=batch_size, shuffle=True),\n",
    "}"
   ]
  },
  {
   "cell_type": "code",
   "execution_count": 13,
   "id": "527f2afc-1a77-4960-a3a5-c9d4f4d1c009",
   "metadata": {},
   "outputs": [
    {
     "name": "stderr",
     "output_type": "stream",
     "text": [
      "Clipping input data to the valid range for imshow with RGB data ([0..1] for floats or [0..255] for integers).\n",
      "Clipping input data to the valid range for imshow with RGB data ([0..1] for floats or [0..255] for integers).\n",
      "Clipping input data to the valid range for imshow with RGB data ([0..1] for floats or [0..255] for integers).\n",
      "Clipping input data to the valid range for imshow with RGB data ([0..1] for floats or [0..255] for integers).\n",
      "Clipping input data to the valid range for imshow with RGB data ([0..1] for floats or [0..255] for integers).\n",
      "Clipping input data to the valid range for imshow with RGB data ([0..1] for floats or [0..255] for integers).\n",
      "Clipping input data to the valid range for imshow with RGB data ([0..1] for floats or [0..255] for integers).\n",
      "Clipping input data to the valid range for imshow with RGB data ([0..1] for floats or [0..255] for integers).\n"
     ]
    },
    {
     "data": {
      "image/png": "[encoded data removed]",
      "text/plain": [
       "<Figure size 864x288 with 8 Axes>"
      ]
     },
     "metadata": {
      "needs_background": "light"
     },
     "output_type": "display_data"
    }
   ],
   "source": [
    "import matplotlib.pyplot as plt\n",
    "\n",
    "# データローダーから1バッチ分のデータを取得\n",
    "images, labels = next(iter(train_dataloader['train']))\n",
    "\n",
    "# バッチの画像とラベルを表示\n",
    "fig, axes = plt.subplots(1, len(images), figsize=(12, 4))\n",
    "for ax, img, label in zip(axes, images, labels):\n",
    "    ax.imshow(img.permute(1, 2, 0))  # CHWをHWCに変更\n",
    "    ax.set_title(f'Label: {label}')\n",
    "    ax.axis('off')\n",
    "plt.show()"
   ]
  },
  {
   "cell_type": "code",
   "execution_count": 14,
   "id": "83cbe513-275c-4786-83a3-07364179e28b",
   "metadata": {},
   "outputs": [
    {
     "ename": "NameError",
     "evalue": "name 'cosine' is not defined",
     "output_type": "error",
     "traceback": [
      "\u001b[0;31m---------------------------------------------------------------------------\u001b[0m",
      "\u001b[0;31mNameError\u001b[0m                                 Traceback (most recent call last)",
      "\u001b[0;32m<ipython-input-14-f9dc9e41e6cd>\u001b[0m in \u001b[0;36m<module>\u001b[0;34m\u001b[0m\n\u001b[1;32m      1\u001b[0m \u001b[0mlabel\u001b[0m\u001b[0;34m=\u001b[0m \u001b[0;34m[\u001b[0m\u001b[0;36m1\u001b[0m\u001b[0;34m,\u001b[0m \u001b[0;36m2\u001b[0m\u001b[0;34m,\u001b[0m \u001b[0;36m2\u001b[0m\u001b[0;34m,\u001b[0m \u001b[0;36m0\u001b[0m\u001b[0;34m,\u001b[0m \u001b[0;36m0\u001b[0m\u001b[0;34m,\u001b[0m \u001b[0;36m1\u001b[0m\u001b[0;34m,\u001b[0m \u001b[0;36m0\u001b[0m\u001b[0;34m,\u001b[0m \u001b[0;36m2\u001b[0m\u001b[0;34m]\u001b[0m\u001b[0;34m\u001b[0m\u001b[0;34m\u001b[0m\u001b[0m\n\u001b[1;32m      2\u001b[0m \u001b[0;34m\u001b[0m\u001b[0m\n\u001b[0;32m----> 3\u001b[0;31m \u001b[0mone_hot\u001b[0m \u001b[0;34m=\u001b[0m \u001b[0mtorch\u001b[0m\u001b[0;34m.\u001b[0m\u001b[0mzeros\u001b[0m\u001b[0;34m(\u001b[0m\u001b[0mcosine\u001b[0m\u001b[0;34m.\u001b[0m\u001b[0msize\u001b[0m\u001b[0;34m(\u001b[0m\u001b[0;34m)\u001b[0m\u001b[0;34m,\u001b[0m \u001b[0mdevice\u001b[0m\u001b[0;34m=\u001b[0m\u001b[0;34m'cuda'\u001b[0m\u001b[0;34m)\u001b[0m\u001b[0;34m\u001b[0m\u001b[0;34m\u001b[0m\u001b[0m\n\u001b[0m\u001b[1;32m      4\u001b[0m \u001b[0mone_hot\u001b[0m\u001b[0;34m.\u001b[0m\u001b[0mscatter_\u001b[0m\u001b[0;34m(\u001b[0m\u001b[0;36m1\u001b[0m\u001b[0;34m,\u001b[0m \u001b[0mlabel\u001b[0m\u001b[0;34m.\u001b[0m\u001b[0mview\u001b[0m\u001b[0;34m(\u001b[0m\u001b[0;34m-\u001b[0m\u001b[0;36m1\u001b[0m\u001b[0;34m,\u001b[0m \u001b[0;36m1\u001b[0m\u001b[0;34m)\u001b[0m\u001b[0;34m.\u001b[0m\u001b[0mlong\u001b[0m\u001b[0;34m(\u001b[0m\u001b[0;34m)\u001b[0m\u001b[0;34m,\u001b[0m \u001b[0;36m1\u001b[0m\u001b[0;34m)\u001b[0m\u001b[0;34m\u001b[0m\u001b[0;34m\u001b[0m\u001b[0m\n",
      "\u001b[0;31mNameError\u001b[0m: name 'cosine' is not defined"
     ]
    }
   ],
   "source": [
    "label= [1, 2, 2, 0, 0, 1, 0, 2]\n",
    "\n",
    "one_hot = torch.zeros(cosine.size(), device='cuda')\n",
    "one_hot.scatter_(1, label.view(-1, 1).long(), 1)"
   ]
  },
  {
   "cell_type": "code",
   "execution_count": null,
   "id": "8531d673-16a5-420b-95b4-8123d7224e9d",
   "metadata": {},
   "outputs": [],
   "source": [
    "import os\n",
    "import shutil\n",
    "import math\n",
    "out_dim = 3\n",
    "device = torch.device(\"cuda\" if torch.cuda.is_available() else \"cpu\")\n",
    "\n",
    "# set model & optimizer\n",
    "model = CustomModel(Config, out_dim=out_dim, pretrained=True)\n",
    "model.to(device)\n",
    "\n",
    "# Define loss function and optimizer\n",
    "criterion = nn.CrossEntropyLoss()\n",
    "optimizer = optim.SGD(model.parameters(), lr=0.001, momentum=0.9)\n",
    "\n",
    "# Train the model\n",
    "train_model(train_dataloader, model, criterion, optimizer, num_epochs=5, file_name='angularmodel', device=device)"
   ]
  },
  {
   "cell_type": "markdown",
   "id": "967f7eb4-915f-4d47-b8d9-b3f7d4268341",
   "metadata": {},
   "source": [
    "## 評価"
   ]
  },
  {
   "cell_type": "code",
   "execution_count": null,
   "id": "b39b003b-3f11-4c0d-aa48-25d0755fd140",
   "metadata": {},
   "outputs": [],
   "source": []
  },
  {
   "cell_type": "code",
   "execution_count": null,
   "id": "210cfe15-1c91-4cf9-94cd-a725af948bc8",
   "metadata": {},
   "outputs": [],
   "source": [
    "# 2. "
   ]
  },
  {
   "cell_type": "code",
   "execution_count": null,
   "id": "b1b9bcd2-53d4-45a4-9861-31e0b9f63fd0",
   "metadata": {},
   "outputs": [],
   "source": []
  }
 ],
 "metadata": {
  "kernelspec": {
   "display_name": "Python 3",
   "language": "python",
   "name": "python3"
  },
  "language_info": {
   "codemirror_mode": {
    "name": "ipython",
    "version": 3
   },
   "file_extension": ".py",
   "mimetype": "text/x-python",
   "name": "python",
   "nbconvert_exporter": "python",
   "pygments_lexer": "ipython3",
   "version": "3.8.12"
  }
 },
 "nbformat": 4,
 "nbformat_minor": 5
}
